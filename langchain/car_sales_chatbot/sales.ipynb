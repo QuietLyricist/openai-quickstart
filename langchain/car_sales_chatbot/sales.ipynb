{
 "cells": [
  {
   "metadata": {
    "ExecuteTime": {
     "end_time": "2024-07-26T09:30:14.064483Z",
     "start_time": "2024-07-26T09:30:14.058973Z"
    }
   },
   "cell_type": "code",
   "source": "",
   "id": "1dd2a42414e72d2c",
   "outputs": [],
   "execution_count": null
  },
  {
   "cell_type": "markdown",
   "id": "69032b4b-b031-4020-beb0-e8dfd22b660e",
   "metadata": {},
   "source": "# Homework：汽车销售聊天机器人"
  },
  {
   "cell_type": "markdown",
   "id": "0f3e2d5a-c2ff-4faf-b153-d1751c25fae0",
   "metadata": {},
   "source": [
    "## 使用 GPT-4 构造汽车销售话术数据\n",
    "\n",
    "\n",
    "\n",
    "使用 ChatGPT 构造销售数据的 Prompt ：\n",
    "\n",
    "```\n",
    "你是中国顶级的汽车销售，现在培训职场新人，请给出100条实用的销售话术。\n",
    "每条销售话术以如下格式给出：\n",
    "[客户问题]\n",
    "[销售回答]\n",
    "\n",
    "```\n",
    "\n",
    "\n",
    "## 使用 Document Transformers 模块来处理原始数据\n",
    "\n",
    "\n",
    "将 ChatGPT 生成的结果保存到 [real_estate_sales_data.txt.txt](real_estate_sales_data.txt.txt) 文件中"
   ]
  },
  {
   "metadata": {},
   "cell_type": "markdown",
   "source": "",
   "id": "a70304bf72434aee"
  },
  {
   "metadata": {},
   "cell_type": "markdown",
   "source": "",
   "id": "fe67afc611e51681"
  },
  {
   "cell_type": "code",
   "id": "efcee928-b9f4-4e4a-b9fb-f6cbee21b642",
   "metadata": {
    "ExecuteTime": {
     "end_time": "2024-07-26T09:30:14.094822Z",
     "start_time": "2024-07-26T09:30:14.083760Z"
    }
   },
   "source": [
    "with open(\"real_estate_sales_data.txt\", encoding=\"UTF-8\") as f:\n",
    "    car_sale_data = f.read()"
   ],
   "outputs": [],
   "execution_count": 23
  },
  {
   "cell_type": "markdown",
   "id": "a9119556-d2e3-4edf-be16-15837da156f1",
   "metadata": {
    "jupyter": {
     "source_hidden": true
    }
   },
   "source": [
    "### 使用 CharacterTextSplitter 来进行文本分割\n",
    "\n",
    "- 基于单字符来进行文本分割（separator）\n",
    "- 基于字符数来决定文本块长度（chunk_size）\n",
    "\n",
    "参考示例：\n",
    "\n",
    "```python\n",
    "from langchain.text_splitter import CharacterTextSplitter\n",
    "text_splitter = CharacterTextSplitter(        \n",
    "    separator = \"\\n\\n\",\n",
    "    chunk_size = 1000,\n",
    "    chunk_overlap  = 200,\n",
    "    length_function = len,\n",
    "    is_separator_regex = False,\n",
    ")\n",
    "```\n"
   ]
  },
  {
   "cell_type": "code",
   "id": "dbe535b8-2bd8-4c31-91d7-eba8aa61b3ef",
   "metadata": {
    "ExecuteTime": {
     "end_time": "2024-07-26T09:30:14.157977Z",
     "start_time": "2024-07-26T09:30:14.141455Z"
    }
   },
   "source": [
    "from langchain.text_splitter import CharacterTextSplitter"
   ],
   "outputs": [],
   "execution_count": 24
  },
  {
   "cell_type": "code",
   "id": "a4f30d9b-9fc6-4860-a497-0aa8220b9284",
   "metadata": {
    "ExecuteTime": {
     "end_time": "2024-07-26T09:30:14.188864Z",
     "start_time": "2024-07-26T09:30:14.181599Z"
    }
   },
   "source": [
    "text_splitter = CharacterTextSplitter(        \n",
    "    separator = r'\\d+\\.',\n",
    "    chunk_size = 100,\n",
    "    chunk_overlap  = 0,\n",
    "    length_function = len,\n",
    "    is_separator_regex = True,\n",
    ")"
   ],
   "outputs": [],
   "execution_count": 25
  },
  {
   "cell_type": "code",
   "id": "530f3172-17a5-4924-ad17-284fbca422ae",
   "metadata": {
    "ExecuteTime": {
     "end_time": "2024-07-26T09:30:14.219185Z",
     "start_time": "2024-07-26T09:30:14.205158Z"
    }
   },
   "source": "docs = text_splitter.create_documents([car_sale_data])",
   "outputs": [
    {
     "name": "stderr",
     "output_type": "stream",
     "text": [
      "Created a chunk of size 115, which is longer than the specified 100\n",
      "Created a chunk of size 108, which is longer than the specified 100\n",
      "Created a chunk of size 105, which is longer than the specified 100\n",
      "Created a chunk of size 103, which is longer than the specified 100\n",
      "Created a chunk of size 102, which is longer than the specified 100\n",
      "Created a chunk of size 101, which is longer than the specified 100\n",
      "Created a chunk of size 104, which is longer than the specified 100\n",
      "Created a chunk of size 111, which is longer than the specified 100\n",
      "Created a chunk of size 102, which is longer than the specified 100\n",
      "Created a chunk of size 102, which is longer than the specified 100\n"
     ]
    }
   ],
   "execution_count": 26
  },
  {
   "cell_type": "code",
   "id": "3956ec36-706e-4f43-88fc-d704f2984290",
   "metadata": {
    "ExecuteTime": {
     "end_time": "2024-07-26T09:30:14.250133Z",
     "start_time": "2024-07-26T09:30:14.235826Z"
    }
   },
   "source": [
    "docs[0]"
   ],
   "outputs": [
    {
     "data": {
      "text/plain": [
       "Document(page_content='[客户问题] 这款车的价格有点高，有没有优惠？\\n[销售回答] 我理解您的顾虑。这款车的价格反映了其高品质和丰富配置。目前我们有一些特别的金融方案和礼品活动，您可以选择最适合自己的优惠方案。')"
      ]
     },
     "execution_count": 27,
     "metadata": {},
     "output_type": "execute_result"
    }
   ],
   "execution_count": 27
  },
  {
   "cell_type": "code",
   "id": "73b2d47a-27ae-4cd4-a72a-3809b4c22bff",
   "metadata": {
    "ExecuteTime": {
     "end_time": "2024-07-26T09:30:14.297741Z",
     "start_time": "2024-07-26T09:30:14.288197Z"
    }
   },
   "source": [
    "len(docs)"
   ],
   "outputs": [
    {
     "data": {
      "text/plain": [
       "41"
      ]
     },
     "execution_count": 28,
     "metadata": {},
     "output_type": "execute_result"
    }
   ],
   "execution_count": 28
  },
  {
   "cell_type": "markdown",
   "id": "e4617858-ad9c-42eb-a4c3-6bfb7108cdd2",
   "metadata": {},
   "source": [
    "### 使用 Faiss 作为向量数据库，持久化存储房产销售 问答对（QA-Pair）"
   ]
  },
  {
   "cell_type": "code",
   "id": "508c2ab2-e187-424f-a43c-ca3d3b1a0550",
   "metadata": {
    "ExecuteTime": {
     "end_time": "2024-07-26T09:30:17.107989Z",
     "start_time": "2024-07-26T09:30:14.362902Z"
    }
   },
   "source": [
    "from langchain.embeddings.openai import OpenAIEmbeddings\n",
    "from langchain.text_splitter import CharacterTextSplitter\n",
    "from langchain.vectorstores import FAISS\n",
    "\n",
    "db = FAISS.from_documents(docs, OpenAIEmbeddings())"
   ],
   "outputs": [],
   "execution_count": 29
  },
  {
   "cell_type": "code",
   "id": "250e0873-95e2-4372-98a5-68c0feb304bb",
   "metadata": {
    "ExecuteTime": {
     "end_time": "2024-07-26T09:30:17.138695Z",
     "start_time": "2024-07-26T09:30:17.124986Z"
    }
   },
   "source": "query = \"这款车的价格有点高，有没有优惠？\"",
   "outputs": [],
   "execution_count": 30
  },
  {
   "cell_type": "code",
   "id": "0d18fcc6-c2be-434b-b8de-9648ac6f83f4",
   "metadata": {
    "ExecuteTime": {
     "end_time": "2024-07-26T09:30:17.851630Z",
     "start_time": "2024-07-26T09:30:17.192827Z"
    }
   },
   "source": [
    "answer_list = db.similarity_search(query)"
   ],
   "outputs": [],
   "execution_count": 31
  },
  {
   "cell_type": "code",
   "id": "e689667e-7a45-40d6-9eae-4e52cbc7daab",
   "metadata": {
    "ExecuteTime": {
     "end_time": "2024-07-26T09:30:17.882270Z",
     "start_time": "2024-07-26T09:30:17.868242Z"
    }
   },
   "source": [
    "for ans in answer_list:\n",
    "    print(ans.page_content + \"\\n\")"
   ],
   "outputs": [
    {
     "name": "stdout",
     "output_type": "stream",
     "text": [
      "[客户问题] 这款车的价格有点高，有没有优惠？\n",
      "[销售回答] 我理解您的顾虑。这款车的价格反映了其高品质和丰富配置。目前我们有一些特别的金融方案和礼品活动，您可以选择最适合自己的优惠方案。\n",
      "\n",
      "[客户问题] 这款车有现车吗？\n",
      "[销售回答] 目前这款车的库存情况还不错，不过由于这款车的市场需求量很大，建议您尽快下单，我们可以为您预留车辆，确保您第一时间提到车。\n",
      "\n",
      "[客户问题] 这款车的保养费用高吗？\n",
      "[销售回答] 我们的保养费用非常合理，并且我们有多个保养套餐供您选择，能有效控制您的维护成本。此外，定期保养可以延长车辆的使用寿命，减少意外维修的机会。\n",
      "\n",
      "[客户问题] 这款车的零配件贵吗？\n",
      "[销售回答] 这款车的零配件价格非常合理，并且我们提供原厂配件，保证质量和性能。定期保养和正确使用车辆可以有效减少零配件的更换频率，降低维护成本。\n",
      "\n"
     ]
    }
   ],
   "execution_count": 32
  },
  {
   "cell_type": "code",
   "id": "a6cc47bf-1566-472f-84d2-a46bd634907c",
   "metadata": {
    "ExecuteTime": {
     "end_time": "2024-07-26T09:30:17.928707Z",
     "start_time": "2024-07-26T09:30:17.907157Z"
    }
   },
   "source": "db.save_local(\"car_sale_data\")",
   "outputs": [],
   "execution_count": 33
  },
  {
   "cell_type": "markdown",
   "id": "0d5323e5-03fa-4c1c-b896-3ccc28af1857",
   "metadata": {},
   "source": [
    "### 使用 retriever 从向量数据库中获取结果\n",
    "\n",
    "#### 使用参数 `k` 指定返回结果数量\n"
   ]
  },
  {
   "cell_type": "code",
   "id": "17f051c9-8676-48d1-a9a4-e69b52630faf",
   "metadata": {
    "ExecuteTime": {
     "end_time": "2024-07-26T09:30:17.960115Z",
     "start_time": "2024-07-26T09:30:17.945599Z"
    }
   },
   "source": [
    "# 实例化一个 TopK Retriever\n",
    "topK_retriever = db.as_retriever(search_kwargs={\"k\": 3})"
   ],
   "outputs": [],
   "execution_count": 34
  },
  {
   "cell_type": "code",
   "id": "e33024db-ca7b-4d68-9b0e-c31c15ded57d",
   "metadata": {
    "ExecuteTime": {
     "end_time": "2024-07-26T09:30:17.991867Z",
     "start_time": "2024-07-26T09:30:17.977724Z"
    }
   },
   "source": [
    "topK_retriever"
   ],
   "outputs": [
    {
     "data": {
      "text/plain": [
       "VectorStoreRetriever(tags=['FAISS', 'OpenAIEmbeddings'], vectorstore=<langchain_community.vectorstores.faiss.FAISS object at 0x000001C87D5BE320>, search_kwargs={'k': 3})"
      ]
     },
     "execution_count": 35,
     "metadata": {},
     "output_type": "execute_result"
    }
   ],
   "execution_count": 35
  },
  {
   "cell_type": "code",
   "id": "7efb1414-859f-4818-bacd-e1e2edf34b95",
   "metadata": {
    "ExecuteTime": {
     "end_time": "2024-07-26T09:30:19.550954Z",
     "start_time": "2024-07-26T09:30:18.037106Z"
    }
   },
   "source": [
    "docs = topK_retriever.get_relevant_documents(query)\n",
    "for doc in docs:\n",
    "    print(doc.page_content + \"\\n\")"
   ],
   "outputs": [
    {
     "name": "stdout",
     "output_type": "stream",
     "text": [
      "[客户问题] 这款车的价格有点高，有没有优惠？\n",
      "[销售回答] 我理解您的顾虑。这款车的价格反映了其高品质和丰富配置。目前我们有一些特别的金融方案和礼品活动，您可以选择最适合自己的优惠方案。\n",
      "\n",
      "[客户问题] 这款车有现车吗？\n",
      "[销售回答] 目前这款车的库存情况还不错，不过由于这款车的市场需求量很大，建议您尽快下单，我们可以为您预留车辆，确保您第一时间提到车。\n",
      "\n",
      "[客户问题] 这款车的保养费用高吗？\n",
      "[销售回答] 我们的保养费用非常合理，并且我们有多个保养套餐供您选择，能有效控制您的维护成本。此外，定期保养可以延长车辆的使用寿命，减少意外维修的机会。\n",
      "\n"
     ]
    }
   ],
   "execution_count": 36
  },
  {
   "cell_type": "code",
   "id": "a3c4b62d-6f8f-461b-a4fb-41c8a404b831",
   "metadata": {
    "ExecuteTime": {
     "end_time": "2024-07-26T09:30:20.109738Z",
     "start_time": "2024-07-26T09:30:19.569496Z"
    }
   },
   "source": [
    "docs = topK_retriever.get_relevant_documents(\"你们有没有1000万的豪宅啊？\")"
   ],
   "outputs": [],
   "execution_count": 37
  },
  {
   "cell_type": "code",
   "id": "04cca3d7-23d9-491f-8350-faeb19861dec",
   "metadata": {
    "ExecuteTime": {
     "end_time": "2024-07-26T09:30:20.139929Z",
     "start_time": "2024-07-26T09:30:20.126410Z"
    }
   },
   "source": [
    "for doc in docs:\n",
    "    print(doc.page_content + \"\\n\")"
   ],
   "outputs": [
    {
     "name": "stdout",
     "output_type": "stream",
     "text": [
      "[客户问题] 这款车有现车吗？\n",
      "[销售回答] 目前这款车的库存情况还不错，不过由于这款车的市场需求量很大，建议您尽快下单，我们可以为您预留车辆，确保您第一时间提到车。\n",
      "\n",
      "[客户问题] 你们的贷款购车条件是什么？\n",
      "[销售回答] 我们提供多种灵活的贷款方案，首付比例低至20%，最长贷款期限可达5年。只需提供身份证、收入证明和居住证明，我们的金融顾问会为您量身定制最适合您的贷款方案。\n",
      "\n",
      "[客户问题] 这款车的价格有点高，有没有优惠？\n",
      "[销售回答] 我理解您的顾虑。这款车的价格反映了其高品质和丰富配置。目前我们有一些特别的金融方案和礼品活动，您可以选择最适合自己的优惠方案。\n",
      "\n"
     ]
    }
   ],
   "execution_count": 38
  },
  {
   "cell_type": "markdown",
   "id": "b335c9e5-bc01-4a47-916c-03bec0e7a839",
   "metadata": {},
   "source": [
    "#### 使用 similarity_score_threshold 设置阈值，提升结果的相关性质量"
   ]
  },
  {
   "cell_type": "code",
   "id": "b1298956-6cf3-4a68-a3c2-a3149f64f156",
   "metadata": {
    "ExecuteTime": {
     "end_time": "2024-07-26T09:30:20.216366Z",
     "start_time": "2024-07-26T09:30:20.208808Z"
    }
   },
   "source": [
    "# 实例化一个 similarity_score_threshold Retriever\n",
    "retriever = db.as_retriever(\n",
    "    search_type=\"similarity_score_threshold\",\n",
    "    search_kwargs={\"score_threshold\": 0.8}\n",
    ")"
   ],
   "outputs": [],
   "execution_count": 39
  },
  {
   "cell_type": "code",
   "id": "d61167de-72ed-4618-a2e1-5df04784a3bc",
   "metadata": {
    "ExecuteTime": {
     "end_time": "2024-07-26T09:30:21.369894Z",
     "start_time": "2024-07-26T09:30:20.280350Z"
    }
   },
   "source": [
    "docs = retriever.get_relevant_documents(query)\n",
    "for doc in docs:\n",
    "    print(doc.page_content + \"\\n\")"
   ],
   "outputs": [
    {
     "name": "stdout",
     "output_type": "stream",
     "text": [
      "[客户问题] 这款车的价格有点高，有没有优惠？\n",
      "[销售回答] 我理解您的顾虑。这款车的价格反映了其高品质和丰富配置。目前我们有一些特别的金融方案和礼品活动，您可以选择最适合自己的优惠方案。\n",
      "\n",
      "[客户问题] 这款车有现车吗？\n",
      "[销售回答] 目前这款车的库存情况还不错，不过由于这款车的市场需求量很大，建议您尽快下单，我们可以为您预留车辆，确保您第一时间提到车。\n",
      "\n",
      "[客户问题] 这款车的保养费用高吗？\n",
      "[销售回答] 我们的保养费用非常合理，并且我们有多个保养套餐供您选择，能有效控制您的维护成本。此外，定期保养可以延长车辆的使用寿命，减少意外维修的机会。\n",
      "\n"
     ]
    }
   ],
   "execution_count": 40
  },
  {
   "cell_type": "code",
   "id": "548d1b52-6fa2-46d6-9218-908db572f380",
   "metadata": {
    "ExecuteTime": {
     "end_time": "2024-07-26T09:30:21.400679Z",
     "start_time": "2024-07-26T09:30:21.387166Z"
    }
   },
   "source": [],
   "outputs": [],
   "execution_count": null
  },
  {
   "cell_type": "markdown",
   "id": "c31344ce-f952-4604-b700-fdbb34da1e28",
   "metadata": {},
   "source": [
    "### 提取向量数据库中的`销售回答`"
   ]
  },
  {
   "cell_type": "code",
   "id": "25768463-da65-4762-978d-51c0c3a9c24b",
   "metadata": {
    "ExecuteTime": {
     "end_time": "2024-07-26T09:30:21.852709Z",
     "start_time": "2024-07-26T09:30:21.417200Z"
    }
   },
   "source": [
    "docs = retriever.get_relevant_documents(query)"
   ],
   "outputs": [],
   "execution_count": 41
  },
  {
   "cell_type": "code",
   "id": "4838d3da-dca3-4c31-80da-cec75760a833",
   "metadata": {
    "ExecuteTime": {
     "end_time": "2024-07-26T09:30:21.883535Z",
     "start_time": "2024-07-26T09:30:21.868985Z"
    }
   },
   "source": [
    "docs[0].page_content"
   ],
   "outputs": [
    {
     "data": {
      "text/plain": [
       "'[客户问题] 这款车的价格有点高，有没有优惠？\\n[销售回答] 我理解您的顾虑。这款车的价格反映了其高品质和丰富配置。目前我们有一些特别的金融方案和礼品活动，您可以选择最适合自己的优惠方案。'"
      ]
     },
     "execution_count": 42,
     "metadata": {},
     "output_type": "execute_result"
    }
   ],
   "execution_count": 42
  },
  {
   "cell_type": "code",
   "id": "1ba30232-f468-4102-b70c-02c8b74da43d",
   "metadata": {
    "ExecuteTime": {
     "end_time": "2024-07-26T09:30:21.914061Z",
     "start_time": "2024-07-26T09:30:21.903555Z"
    }
   },
   "source": [
    "docs[0].page_content.split(\"[销售回答] \")"
   ],
   "outputs": [
    {
     "data": {
      "text/plain": [
       "['[客户问题] 这款车的价格有点高，有没有优惠？\\n',\n",
       " '我理解您的顾虑。这款车的价格反映了其高品质和丰富配置。目前我们有一些特别的金融方案和礼品活动，您可以选择最适合自己的优惠方案。']"
      ]
     },
     "execution_count": 43,
     "metadata": {},
     "output_type": "execute_result"
    }
   ],
   "execution_count": 43
  },
  {
   "cell_type": "code",
   "id": "bda8eb0c-eb1f-47b2-91ab-4c94ff71c3db",
   "metadata": {
    "ExecuteTime": {
     "end_time": "2024-07-26T09:30:21.945066Z",
     "start_time": "2024-07-26T09:30:21.930516Z"
    }
   },
   "source": [
    "ans = docs[0].page_content.split(\"[销售回答] \")[-1]"
   ],
   "outputs": [],
   "execution_count": 44
  },
  {
   "cell_type": "code",
   "id": "917a3b6c-3149-42e2-b7b6-abebd94b7f72",
   "metadata": {
    "ExecuteTime": {
     "end_time": "2024-07-26T09:30:21.975124Z",
     "start_time": "2024-07-26T09:30:21.961604Z"
    }
   },
   "source": [
    "ans"
   ],
   "outputs": [
    {
     "data": {
      "text/plain": [
       "'我理解您的顾虑。这款车的价格反映了其高品质和丰富配置。目前我们有一些特别的金融方案和礼品活动，您可以选择最适合自己的优惠方案。'"
      ]
     },
     "execution_count": 45,
     "metadata": {},
     "output_type": "execute_result"
    }
   ],
   "execution_count": 45
  },
  {
   "cell_type": "markdown",
   "id": "b36b61a5-156d-4546-bbd1-8a983e94676b",
   "metadata": {},
   "source": [
    "#### 尝试各种问题"
   ]
  },
  {
   "cell_type": "code",
   "id": "c311a656-e571-45d6-8690-88e4be2c2a65",
   "metadata": {
    "ExecuteTime": {
     "end_time": "2024-07-26T09:30:22.036757Z",
     "start_time": "2024-07-26T09:30:22.022728Z"
    }
   },
   "source": [
    "from typing import List\n",
    "\n",
    "def sales(query: str, score_threshold: float=0.8) -> List[str]:\n",
    "    retriever = db.as_retriever(search_type=\"similarity_score_threshold\", search_kwargs={\"score_threshold\": score_threshold})    \n",
    "    docs = retriever.get_relevant_documents(query)\n",
    "    ans_list = [doc.page_content.split(\"[销售回答] \")[-1] for doc in docs]\n",
    "\n",
    "    return ans_list"
   ],
   "outputs": [],
   "execution_count": 46
  },
  {
   "cell_type": "code",
   "id": "2f4c6c08-b97c-4727-9aa1-a474d85a11e4",
   "metadata": {
    "ExecuteTime": {
     "end_time": "2024-07-26T09:30:22.529677Z",
     "start_time": "2024-07-26T09:30:22.053934Z"
    }
   },
   "source": [
    "query = \"我想离医院近点\"\n",
    "\n",
    "print(sales(query))"
   ],
   "outputs": [
    {
     "name": "stdout",
     "output_type": "stream",
     "text": [
      "[]\n"
     ]
    },
    {
     "name": "stderr",
     "output_type": "stream",
     "text": [
      "D:\\project\\openai-quickstart\\venv\\lib\\site-packages\\langchain_core\\vectorstores.py:342: UserWarning: No relevant docs were retrieved using the relevance score threshold 0.8\n",
      "  warnings.warn(\n"
     ]
    }
   ],
   "execution_count": 47
  },
  {
   "cell_type": "code",
   "id": "11e3d8b6-839f-4b2f-b519-841e0271f95b",
   "metadata": {
    "ExecuteTime": {
     "end_time": "2024-07-26T09:30:23.190815Z",
     "start_time": "2024-07-26T09:30:22.576360Z"
    }
   },
   "source": [
    "print(sales(query, 0.75))"
   ],
   "outputs": [
    {
     "name": "stdout",
     "output_type": "stream",
     "text": [
      "[]\n"
     ]
    },
    {
     "name": "stderr",
     "output_type": "stream",
     "text": [
      "D:\\project\\openai-quickstart\\venv\\lib\\site-packages\\langchain_core\\vectorstores.py:342: UserWarning: No relevant docs were retrieved using the relevance score threshold 0.75\n",
      "  warnings.warn(\n"
     ]
    }
   ],
   "execution_count": 48
  },
  {
   "cell_type": "code",
   "id": "fc5b030a-ae6f-4d42-9577-1420c78aecb1",
   "metadata": {
    "ExecuteTime": {
     "end_time": "2024-07-26T09:30:25.329982Z",
     "start_time": "2024-07-26T09:30:23.211836Z"
    }
   },
   "source": [
    "query = \"价格200万以内\"\n",
    "\n",
    "print(f\"score:0.8 ans: {sales(query)}\\n\")\n",
    "print(f\"score:0.75 ans: {sales(query, 0.75)}\\n\")\n",
    "print(f\"score:0.5 ans: {sales(query, 0.5)}\\n\")"
   ],
   "outputs": [
    {
     "name": "stderr",
     "output_type": "stream",
     "text": [
      "D:\\project\\openai-quickstart\\venv\\lib\\site-packages\\langchain_core\\vectorstores.py:342: UserWarning: No relevant docs were retrieved using the relevance score threshold 0.8\n",
      "  warnings.warn(\n"
     ]
    },
    {
     "name": "stdout",
     "output_type": "stream",
     "text": [
      "score:0.8 ans: []\n",
      "\n"
     ]
    },
    {
     "name": "stderr",
     "output_type": "stream",
     "text": [
      "D:\\project\\openai-quickstart\\venv\\lib\\site-packages\\langchain_core\\vectorstores.py:342: UserWarning: No relevant docs were retrieved using the relevance score threshold 0.75\n",
      "  warnings.warn(\n"
     ]
    },
    {
     "name": "stdout",
     "output_type": "stream",
     "text": [
      "score:0.75 ans: []\n",
      "\n",
      "score:0.5 ans: ['我理解您的顾虑。这款车的价格反映了其高品质和丰富配置。目前我们有一些特别的金融方案和礼品活动，您可以选择最适合自己的优惠方案。', '这款车的二手保值率非常高，得益于其良好的品牌口碑和出色的品质。无论是驾驶体验还是市场需求，这款车都表现非常出色，保值率也自然水涨船高。', '这款车的零配件价格非常合理，并且我们提供原厂配件，保证质量和性能。定期保养和正确使用车辆可以有效减少零配件的更换频率，降低维护成本。', '我们提供多种灵活的贷款方案，首付比例低至20%，最长贷款期限可达5年。只需提供身份证、收入证明和居住证明，我们的金融顾问会为您量身定制最适合您的贷款方案。']\n",
      "\n"
     ]
    }
   ],
   "execution_count": 49
  },
  {
   "cell_type": "markdown",
   "id": "9e26e6d7-259b-4ecf-9c72-027befba4e3b",
   "metadata": {},
   "source": [
    "#### 当向量数据库中没有合适答案时，使用大语言模型能力"
   ]
  },
  {
   "cell_type": "code",
   "id": "9142feb4-980a-4142-b367-1401021dceef",
   "metadata": {
    "ExecuteTime": {
     "end_time": "2024-07-26T09:30:25.375107Z",
     "start_time": "2024-07-26T09:30:25.345997Z"
    }
   },
   "source": [
    "from langchain.chains import RetrievalQA\n",
    "from langchain_openai import ChatOpenAI\n",
    "\n",
    "llm = ChatOpenAI(model_name=\"gpt-4-1106-preview\", temperature=0.5)\n",
    "qa_chain = RetrievalQA.from_chain_type(llm,\n",
    "                                       retriever=db.as_retriever(search_type=\"similarity_score_threshold\",\n",
    "                                                                 search_kwargs={\"score_threshold\": 0.8}))"
   ],
   "outputs": [],
   "execution_count": 50
  },
  {
   "cell_type": "code",
   "id": "d281b560-54bb-4a25-a1dc-b23874361654",
   "metadata": {
    "ExecuteTime": {
     "end_time": "2024-07-26T09:30:33.663261Z",
     "start_time": "2024-07-26T09:30:25.401124Z"
    }
   },
   "source": [
    "qa_chain({\"query\": \"你们小区有200万的房子吗？\"})"
   ],
   "outputs": [
    {
     "name": "stderr",
     "output_type": "stream",
     "text": [
      "D:\\project\\openai-quickstart\\venv\\lib\\site-packages\\langchain_core\\_api\\deprecation.py:119: LangChainDeprecationWarning: The method `Chain.__call__` was deprecated in langchain 0.1.0 and will be removed in 0.3.0. Use invoke instead.\n",
      "  warn_deprecated(\n",
      "D:\\project\\openai-quickstart\\venv\\lib\\site-packages\\langchain_core\\vectorstores.py:342: UserWarning: No relevant docs were retrieved using the relevance score threshold 0.8\n",
      "  warnings.warn(\n"
     ]
    },
    {
     "data": {
      "text/plain": [
       "{'query': '你们小区有200万的房子吗？',\n",
       " 'result': '对不起，作为一个AI，我没有具体的地理位置信息或房地产列表的访问权限。如果您想了解某个小区是否有200万的房子，建议您联系当地的房地产经纪人，或者在网上搜索相关房产信息网站，如链家、贝壳找房等，以获取最新的房源信息和价格。'}"
      ]
     },
     "execution_count": 51,
     "metadata": {},
     "output_type": "execute_result"
    }
   ],
   "execution_count": 51
  },
  {
   "cell_type": "code",
   "id": "c6a30dcc-fa6b-4282-935c-b07902746e19",
   "metadata": {
    "ExecuteTime": {
     "end_time": "2024-07-26T09:30:38.268948Z",
     "start_time": "2024-07-26T09:30:33.720707Z"
    }
   },
   "source": [
    "qa_chain({\"query\": \"小区吵不吵\"})"
   ],
   "outputs": [
    {
     "name": "stderr",
     "output_type": "stream",
     "text": [
      "D:\\project\\openai-quickstart\\venv\\lib\\site-packages\\langchain_core\\vectorstores.py:342: UserWarning: No relevant docs were retrieved using the relevance score threshold 0.8\n",
      "  warnings.warn(\n"
     ]
    },
    {
     "data": {
      "text/plain": [
       "{'query': '小区吵不吵',\n",
       " 'result': '对不起，我不知道这个小区的具体情况，所以无法回答这个问题。如果你能提供更多信息，我会尽力帮助你。'}"
      ]
     },
     "execution_count": 52,
     "metadata": {},
     "output_type": "execute_result"
    }
   ],
   "execution_count": 52
  },
  {
   "cell_type": "code",
   "id": "9da44bd6-02ef-4fb6-8e9e-7c99aeba483a",
   "metadata": {
    "ExecuteTime": {
     "end_time": "2024-07-26T09:30:38.850995Z",
     "start_time": "2024-07-26T09:30:38.334104Z"
    }
   },
   "source": [
    "print(sales(\"小区吵不吵\"))"
   ],
   "outputs": [
    {
     "name": "stdout",
     "output_type": "stream",
     "text": [
      "[]\n"
     ]
    },
    {
     "name": "stderr",
     "output_type": "stream",
     "text": [
      "D:\\project\\openai-quickstart\\venv\\lib\\site-packages\\langchain_core\\vectorstores.py:342: UserWarning: No relevant docs were retrieved using the relevance score threshold 0.8\n",
      "  warnings.warn(\n"
     ]
    }
   ],
   "execution_count": 53
  },
  {
   "cell_type": "code",
   "id": "9764bb10-44ed-47c9-a351-a68f4f7d4f44",
   "metadata": {
    "ExecuteTime": {
     "end_time": "2024-07-26T09:30:38.929244Z",
     "start_time": "2024-07-26T09:30:38.921179Z"
    }
   },
   "source": [],
   "outputs": [],
   "execution_count": null
  },
  {
   "cell_type": "markdown",
   "id": "0a0647e8-5b41-4c93-87c2-3240ec558717",
   "metadata": {},
   "source": [
    "## 加载 FAISS 向量数据库已有结果"
   ]
  },
  {
   "cell_type": "code",
   "id": "913edd04-37ea-4c3f-9346-086aeb0ab447",
   "metadata": {
    "ExecuteTime": {
     "end_time": "2024-07-26T09:30:38.976295Z",
     "start_time": "2024-07-26T09:30:38.946266Z"
    }
   },
   "source": [
    "from langchain_openai import OpenAIEmbeddings\n",
    "from langchain.vectorstores import FAISS\n",
    "\n",
    "db = FAISS.load_local(\"real_estates_sale\", OpenAIEmbeddings(), allow_dangerous_deserialization=True)"
   ],
   "outputs": [],
   "execution_count": 54
  },
  {
   "cell_type": "code",
   "id": "77d8eee4-6383-4b4a-9737-95ea9fc53b87",
   "metadata": {
    "ExecuteTime": {
     "end_time": "2024-07-26T09:30:39.054035Z",
     "start_time": "2024-07-26T09:30:38.993851Z"
    }
   },
   "source": [
    "from langchain.chains import RetrievalQA\n",
    "from langchain.chat_models import ChatOpenAI\n",
    "\n",
    "llm = ChatOpenAI(model_name=\"gpt-4\", temperature=0.5)\n",
    "qa_chain = RetrievalQA.from_chain_type(llm,\n",
    "                                       retriever=db.as_retriever(search_type=\"similarity_score_threshold\",\n",
    "                                                                 search_kwargs={\"score_threshold\": 0.8}))"
   ],
   "outputs": [
    {
     "name": "stderr",
     "output_type": "stream",
     "text": [
      "D:\\project\\openai-quickstart\\venv\\lib\\site-packages\\langchain_core\\_api\\deprecation.py:119: LangChainDeprecationWarning: The class `ChatOpenAI` was deprecated in LangChain 0.0.10 and will be removed in 0.3.0. An updated version of the class exists in the langchain-openai package and should be used instead. To use it run `pip install -U langchain-openai` and import as `from langchain_openai import ChatOpenAI`.\n",
      "  warn_deprecated(\n"
     ]
    }
   ],
   "execution_count": 55
  },
  {
   "cell_type": "code",
   "id": "5dfac197-cadb-47d7-8cbe-1b07a83fc8e1",
   "metadata": {
    "ExecuteTime": {
     "end_time": "2024-07-26T09:30:46.381101Z",
     "start_time": "2024-07-26T09:30:39.070548Z"
    }
   },
   "source": [
    "qa_chain({\"query\": \"我想买别墅，你们有么\"})"
   ],
   "outputs": [
    {
     "name": "stderr",
     "output_type": "stream",
     "text": [
      "D:\\project\\openai-quickstart\\venv\\lib\\site-packages\\langchain_core\\vectorstores.py:342: UserWarning: No relevant docs were retrieved using the relevance score threshold 0.8\n",
      "  warnings.warn(\n"
     ]
    },
    {
     "data": {
      "text/plain": [
       "{'query': '我想买别墅，你们有么',\n",
       " 'result': '对不起，作为一个人工智能，我无法提供购买别墅的服务。我在这里主要是为了提供信息和帮助解答问题。'}"
      ]
     },
     "execution_count": 56,
     "metadata": {},
     "output_type": "execute_result"
    }
   ],
   "execution_count": 56
  },
  {
   "cell_type": "code",
   "id": "fc393afc-06d3-4483-bd24-efe000ef5f2a",
   "metadata": {
    "ExecuteTime": {
     "end_time": "2024-07-26T09:30:46.458228Z",
     "start_time": "2024-07-26T09:30:46.440371Z"
    }
   },
   "source": [
    "# 输出内部 Chain 的日志\n",
    "qa_chain.combine_documents_chain.verbose = True"
   ],
   "outputs": [],
   "execution_count": 57
  },
  {
   "cell_type": "code",
   "id": "013c313a-5e7c-48d1-8ed4-eee96e50a99c",
   "metadata": {
    "ExecuteTime": {
     "end_time": "2024-07-26T09:30:53.697520Z",
     "start_time": "2024-07-26T09:30:46.482332Z"
    }
   },
   "source": [
    "qa_chain({\"query\": \"我想买别墅，你们有么\"})"
   ],
   "outputs": [
    {
     "name": "stderr",
     "output_type": "stream",
     "text": [
      "D:\\project\\openai-quickstart\\venv\\lib\\site-packages\\langchain_core\\vectorstores.py:342: UserWarning: No relevant docs were retrieved using the relevance score threshold 0.8\n",
      "  warnings.warn(\n"
     ]
    },
    {
     "name": "stdout",
     "output_type": "stream",
     "text": [
      "\n",
      "\n",
      "\u001B[1m> Entering new StuffDocumentsChain chain...\u001B[0m\n",
      "\n",
      "\u001B[1m> Finished chain.\u001B[0m\n"
     ]
    },
    {
     "data": {
      "text/plain": [
       "{'query': '我想买别墅，你们有么',\n",
       " 'result': '对不起，我是一个人工智能助手，我无法提供购买别墅的服务。我可以帮助回答问题或提供信息，但无法进行实物交易。'}"
      ]
     },
     "execution_count": 58,
     "metadata": {},
     "output_type": "execute_result"
    }
   ],
   "execution_count": 58
  },
  {
   "cell_type": "code",
   "id": "e5fb0943-ffe9-4270-8dbe-f5f5314e6042",
   "metadata": {
    "ExecuteTime": {
     "end_time": "2024-07-26T09:30:54.074449Z",
     "start_time": "2024-07-26T09:30:54.053887Z"
    }
   },
   "source": [
    "# 返回向量数据库的检索结果\n",
    "qa_chain.return_source_documents = True"
   ],
   "outputs": [],
   "execution_count": 59
  },
  {
   "cell_type": "code",
   "id": "fbc1741e-d34f-4df5-874b-02b78e8cd67a",
   "metadata": {
    "ExecuteTime": {
     "end_time": "2024-07-26T09:31:00.117628Z",
     "start_time": "2024-07-26T09:30:54.123145Z"
    }
   },
   "source": [
    "result = qa_chain({\"query\": \"我想买别墅，你们有么\"})"
   ],
   "outputs": [
    {
     "name": "stderr",
     "output_type": "stream",
     "text": [
      "D:\\project\\openai-quickstart\\venv\\lib\\site-packages\\langchain_core\\vectorstores.py:342: UserWarning: No relevant docs were retrieved using the relevance score threshold 0.8\n",
      "  warnings.warn(\n"
     ]
    },
    {
     "name": "stdout",
     "output_type": "stream",
     "text": [
      "\n",
      "\n",
      "\u001B[1m> Entering new StuffDocumentsChain chain...\u001B[0m\n",
      "\n",
      "\u001B[1m> Finished chain.\u001B[0m\n"
     ]
    }
   ],
   "execution_count": 60
  },
  {
   "cell_type": "code",
   "id": "fac8309c-033c-4144-ada0-08e74fa9bf2d",
   "metadata": {
    "ExecuteTime": {
     "end_time": "2024-07-26T09:31:00.132754Z",
     "start_time": "2024-07-26T09:31:00.123822Z"
    }
   },
   "source": [
    "result"
   ],
   "outputs": [
    {
     "data": {
      "text/plain": [
       "{'query': '我想买别墅，你们有么',\n",
       " 'result': '对不起，我不能帮您购买别墅。我是一个人工智能，用来帮助回答问题和提供信息，但我不能进行实际的交易或购买。',\n",
       " 'source_documents': []}"
      ]
     },
     "execution_count": 61,
     "metadata": {},
     "output_type": "execute_result"
    }
   ],
   "execution_count": 61
  },
  {
   "cell_type": "code",
   "id": "37de84df-999f-4469-9bbe-de9c95c6f6b3",
   "metadata": {
    "ExecuteTime": {
     "end_time": "2024-07-26T09:31:00.209064Z",
     "start_time": "2024-07-26T09:31:00.205065Z"
    }
   },
   "source": [],
   "outputs": [],
   "execution_count": null
  }
 ],
 "metadata": {
  "kernelspec": {
   "display_name": "Python 3 (ipykernel)",
   "language": "python",
   "name": "python3"
  },
  "language_info": {
   "codemirror_mode": {
    "name": "ipython",
    "version": 3
   },
   "file_extension": ".py",
   "mimetype": "text/x-python",
   "name": "python",
   "nbconvert_exporter": "python",
   "pygments_lexer": "ipython3",
   "version": "3.10.14"
  }
 },
 "nbformat": 4,
 "nbformat_minor": 5
}
